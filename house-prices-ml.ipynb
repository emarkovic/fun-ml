{
 "cells": [
  {
   "cell_type": "code",
   "execution_count": 11,
   "metadata": {
    "collapsed": true
   },
   "outputs": [],
   "source": [
    "import pandas as pd\n",
    "import numpy as np\n",
    "\n",
    "import matplotlib.pyplot as plt\n",
    "\n",
    "from sklearn.ensemble import RandomForestClassifier\n",
    "from sklearn.model_selection import GridSearchCV\n",
    "from sklearn.metrics import make_scorer, accuracy_score\n",
    "\n",
    "import warnings\n",
    "warnings.filterwarnings('ignore')"
   ]
  },
  {
   "cell_type": "code",
   "execution_count": 12,
   "metadata": {
    "collapsed": true
   },
   "outputs": [],
   "source": [
    "def one_hot(input_df):\n",
    "    df = input_df.copy()\n",
    "    cols = list(df)\n",
    "    for col in cols:\n",
    "        if df[col].dtype == \"object\":\n",
    "            df = pd.get_dummies(df, columns=[col], prefix=col)\n",
    "    return df"
   ]
  },
  {
   "cell_type": "code",
   "execution_count": 39,
   "metadata": {},
   "outputs": [],
   "source": [
    "train = pd.read_csv(\"hp_train.csv\")\n",
    "test = pd.read_csv(\"hp_train.csv\")"
   ]
  },
  {
   "cell_type": "code",
   "execution_count": 74,
   "metadata": {},
   "outputs": [],
   "source": [
    "dataset = pd.concat(objs=[train.copy(), test.copy()], axis=0).reset_index(drop=True)\n",
    "dataset = dataset.fillna(np.nan)\n",
    "dataset = dataset.fillna(0)\n",
    "dataset = one_hot(dataset)"
   ]
  },
  {
   "cell_type": "code",
   "execution_count": 75,
   "metadata": {},
   "outputs": [],
   "source": [
    "train_len = len(train)\n",
    "\n",
    "x_train = dataset[:train_len]\n",
    "\n",
    "f_test = dataset[train_len:].drop('SalePrice', axis=1)\n",
    "\n",
    "y_train = x_train[\"SalePrice\"]\n",
    "x_train = x_train.drop(\"SalePrice\", axis=1)"
   ]
  },
  {
   "cell_type": "code",
   "execution_count": 9,
   "metadata": {},
   "outputs": [
    {
     "name": "stdout",
     "output_type": "stream",
     "text": [
      "LotFrontage\n",
      "MasVnrArea\n",
      "GarageYrBlt\n"
     ]
    }
   ],
   "source": [
    "cols = list(x_train)\n",
    "for col in cols:\n",
    "    if x_train[col].dtype == \"float64\":\n",
    "        print(col)"
   ]
  },
  {
   "cell_type": "code",
   "execution_count": 16,
   "metadata": {},
   "outputs": [
    {
     "name": "stdout",
     "output_type": "stream",
     "text": [
      "0.0315068493151\n"
     ]
    }
   ],
   "source": [
    "rfc = RandomForestClassifier()\n",
    "parms = {\n",
    "    \"n_estimators\" : [4, 6, 8],\n",
    "    \"max_features\" : [\"log2\", \"sqrt\", \"auto\"],\n",
    "    \"criterion\" : [\"entropy\", \"gini\"],\n",
    "    \"max_depth\" : [2, 3, 5],\n",
    "    \"min_samples_split\" : [2, 3, 5],\n",
    "    \"min_samples_leaf\" : [1, 5, 8],\n",
    "    \"oob_score\" : [True],\n",
    "    \"random_state\" : [7]\n",
    "}\n",
    "acc_scorer = make_scorer(accuracy_score)\n",
    "gs = GridSearchCV(rfc, parms, scoring=acc_scorer)\n",
    "gs = gs.fit(x_train, y_train)\n",
    "rfc = gs.best_estimator_\n",
    "print(rfc.score(x_train, y_train))"
   ]
  },
  {
   "cell_type": "code",
   "execution_count": 77,
   "metadata": {},
   "outputs": [],
   "source": [
    "pred = rfc.predict(f_test)\n",
    "\n",
    "output_hp = f_test['Id'].to_frame('Id')\n",
    "output_hp = output_hp.assign(SalePrice=pred)\n",
    "output_hp.to_csv('output_hp.csv', index=False)"
   ]
  },
  {
   "cell_type": "code",
   "execution_count": null,
   "metadata": {
    "collapsed": true
   },
   "outputs": [],
   "source": []
  }
 ],
 "metadata": {
  "kernelspec": {
   "display_name": "Python 3",
   "language": "python",
   "name": "python3"
  },
  "language_info": {
   "codemirror_mode": {
    "name": "ipython",
    "version": 3
   },
   "file_extension": ".py",
   "mimetype": "text/x-python",
   "name": "python",
   "nbconvert_exporter": "python",
   "pygments_lexer": "ipython3",
   "version": "3.6.3"
  }
 },
 "nbformat": 4,
 "nbformat_minor": 2
}
